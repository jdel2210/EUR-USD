import pandas as pd
import numpy as np


df = pd.read_csv("FOREX.csv")

df.rename(columns={
    "TIME PERIOD": "DATE", 
    "Euro/US dollar (EXR.D.USD.EUR.SP00.A)": "EURUSD"
}, inplace=True)


df = df.drop_duplicates(subset=['DATE'])
df = df.loc[:, ~df.columns.duplicated()]
df["DATE"] = pd.to_datetime(df["DATE"], errors='coerce')
df = df.dropna(subset=['DATE'])
df.set_index("DATE", inplace=True)
print(df.head())
df['Target'] = df['EURUSD'].shift(-3)

df = df.dropna()

df['Return'] = df['EURUSD'].pct_change()
df['Lag1'] = df['Return'].shift(1)
df['Lag2'] = df['Return'].shift(2)
df['SMA_50'] = df['EURUSD'].rolling(window=50).mean()
df['SMA_200'] = df['EURUSD'].rolling(window=200).mean()
df['RSI'] = 100 - (100 / (1 + (df['Return'].rolling(window=14).mean() / df['Return'].rolling(window=14).std())))
df['MACD'] = df['EURUSD'].ewm(span=12).mean() - df['EURUSD'].ewm(span=26).mean()
df['MACD_signal'] = df['MACD'].ewm(span=9).mean()

df = df.dropna()

features = ['Return', 'Lag1', 'Lag2', 'SMA_50', 'SMA_200', 'RSI', 'MACD', 'MACD_signal']
target = 'Target'

X = df[features]
y = df[target]

from sklearn.model_selection import train_test_split
X_train, X_test, y_train, y_test = train_test_split(X, y, test_size=0.2, random_state=42)

from sklearn.ensemble import RandomForestRegressor
rf_regressor = RandomForestRegressor(n_estimators=100, random_state=42)
rf_regressor.fit(X_train, y_train)

from sklearn.preprocessing import StandardScaler
scaler = StandardScaler()
X_train_scaled = scaler.fit_transform(X_train)
X_test_scaled = scaler.transform(X_test)

new_data = np.array([[0.0001, 0.0002, -0.0001, 0.02, 0.03, 45, 0.5, 0.02]])  # Features for today so that it can predict next week 

new_data_scaled = scaler.transform(new_data)

predicted_price = rf_regressor.predict(new_data_scaled)
print(f"Predicted price for next Tuesday: {predicted_price[0]}")


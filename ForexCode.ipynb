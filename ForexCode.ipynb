import pandas as pd

df = pd.read_csv("FOREX.csv")

df.rename(columns={
    "Euro/US dollar (EXR.D.USD.EUR.SPOO.A)": "EURUSD"
}, inplace=True)


df["DATE"] = pd.to_datetime(df["DATE"])
df = df.sort_values("DATE")
df.set_index("DATE", inplace=True)

df = df.dropna()
df.tail()

df.rename(columns={
    "Euro/US dollar (EXR.D.USD.EUR.SP00.A)": "EURUSD"
}, inplace=True)

df["TIME PERIOD"] = pd.to_datetime(df["TIME PERIOD"])
df.set_index("TIME PERIOD", inplace=True)

df = df.dropna()
df.tail()

import numpy as np

df['Return'] = df['EURUSD'].pct_change()
df['Lag1'] = df['Return'].shift(1)
df['Lag2'] = df['Return'].shift(2)
df['Volatility'] = df['Return'].rolling(window=5).std()

try:
    import ta
    df['RSI'] = ta.momentum.RSIIndicator(close=df['EURUSD']).rsi()
    df['MACD'] = ta.trend.MACD(close=df['EURUSD']).macd_diff()
except ImportError:
    df['RSI'] = np.nan
    df['MACD'] = np.nan

df = df.dropna()

df['Target'] = (df['Return'].shift(-1) > 0).astype(int)

from sklearn.model_selection import train_test_split
from sklearn.ensemble import RandomForestClassifier
from sklearn.metrics import classification_report, confusion_matrix
import matplotlib.pyplot as plt

features = ['Lag1', 'Lag2', 'Volatility', 'RSI', 'MACD']
df = df.dropna()
X = df[features]
y = df['Target']

X_train, X_test, y_train, y_test = train_test_split(X, y, test_size=0.2, shuffle=False)

model = RandomForestClassifier(n_estimators=100, random_state=42)
model.fit(X_train, y_train)

y_pred = model.predict(X_test)
print("Classification Report:\n", classification_report(y_test, y_pred))
print("Confusion Matrix:\n", confusion_matrix(y_test, y_pred))

import seaborn as sns

importances = pd.Series(model.feature_importances_, index=features)
sns.barplot(x=importances.values, y=importances.index)
plt.title("Feature Importance")
plt.show()


df['Prediction'] = model.predict(X)

df['Strategy_Return'] = df['Return'] * df['Prediction']

df['Cumulative_Returns'] = (1 + df['Return']).cumprod()
df['Cumulative_Strategy_Returns'] = (1 + df['Strategy_Return']).cumprod()


plt.figure(figsize=(10, 6))
plt.plot(df['Cumulative_Returns'], label="EUR/USD Buy & Hold")
plt.plot(df['Cumulative_Strategy_Returns'], label="Model Strategy")
plt.legend()
plt.title("Cumulative Returns: Buy & Hold vs Model Strategy")
plt.show()

df['Target'] = df['EURUSD'].shift(-1) 
df = df.dropna()

features2 = ['Return', 'Lag1', 'Lag2', 'SMA_50', 'SMA_200', 'RSI', 'MACD', 'MACD_signal', 'Volatility', 'Momentum']
target2 = 'Target'
df['Momentum'] = df['EURUSD'] - df['EURUSD'].shift(10)

from sklearn.model_selection import train_test_split

X = df[features]
y = df[target]

X_train, X_test, y_train, y_test = train_test_split(X, y, test_size=0.2, random_state=42)

from sklearn.ensemble import RandomForestRegressor


rf_regressor = RandomForestRegressor(n_estimators=100, random_state=42)
rf_regressor.fit(X_train, y_train)

y_pred = rf_regressor.predict(X_test)
print(f"Predicted prices: {y_pred[:5]}")
print(f"Actual prices: {y_test[:5].values}")

from sklearn.preprocessing import StandardScaler
scaler = StandardScaler()
X_train_scaled = scaler.fit_transform(X_train)
X_test_scaled = scaler.transform(X_test)
rf_regressor = RandomForestRegressor(n_estimators=100, random_state=42)
rf_regressor.fit(X_train_scaled, y_train)


y_pred = rf_regressor.predict(X_test_scaled)


from sklearn.metrics import mean_squared_error
mse = mean_squared_error(y_test, y_pred)
print(f"Mean Squared Error: {mse}")


import matplotlib.pyplot as plt
plt.plot(y_test.values, label='Actual Price')
plt.plot(y_pred, label='Predicted Price', linestyle='--')
plt.legend()
plt.title("Predicted vs Actual EUR/USD Prices")
plt.show()


new_data = np.array([[0.0001, 0.0002, -0.0001, 0.02, 0.03, 45, 0.5, 0.02, 0.03, 0.01]])  # Example features
new_data_scaled = scaler.transform(new_data)


predicted_price = rf_regressor.predict(new_data_scaled)
print(f"Predicted future price: {predicted_price}")

